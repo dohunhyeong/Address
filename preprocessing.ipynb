{
 "cells": [
  {
   "cell_type": "markdown",
   "metadata": {},
   "source": [
    "# 엑셀파일 불러와서 csv 파일로 변환\n",
    "* pandas, openpyxl 라이브러리 다운 필요\n",
    "* to_csv(index=False)를 통해서 excel로 불러왔던 데이터프레임을 csv 파일로 변환"
   ]
  },
  {
   "cell_type": "code",
   "execution_count": 7,
   "metadata": {},
   "outputs": [],
   "source": [
    "import pandas as pd\n",
    "df = pd.read_excel('./202201_dropna.xlsx')"
   ]
  },
  {
   "cell_type": "code",
   "execution_count": 8,
   "metadata": {},
   "outputs": [],
   "source": [
    "df.to_csv('./202201.csv', index=False, encoding = 'utf-8-sig')"
   ]
  },
  {
   "cell_type": "code",
   "execution_count": 9,
   "metadata": {},
   "outputs": [],
   "source": [
    "df1 = pd.read_csv('./202201.csv', index_col=0, encoding=\"utf-8-sig\")\n"
   ]
  },
  {
   "cell_type": "code",
   "execution_count": 1,
   "metadata": {},
   "outputs": [],
   "source": [
    "# df1"
   ]
  },
  {
   "cell_type": "markdown",
   "metadata": {},
   "source": [
    "## data_splitting.py 파일을 실행해서 데이터를 쪼갭니다.(해당 파일의 batch 라는 변수 값을 수정해서 몇 개씩 쪼갤지를 정합니다.)\n",
    "* 예시 : batch =10000 이면, 10000개씩 쪼갠다는 의미/  총 60,000개의 데이터인 경우, batch=10000이면, 6개의 batch 가 생겨나는 거.\n",
    "---\n",
    "\n",
    "## address_api_V4.py 를 실행\n",
    "### input을 입력해줘야 함.\n",
    "1. 폴더명 (202201)\n",
    "2. 세부 폴더명(202201 이라는 전체 데이터를 data_splitting.py로 쪼갠 이후에 생겨난 세부 데이터들의 폴더명을 입력)\n",
    "**이 과정을 반복해서 전체 쪼개진 데이터에 대해서 주소 변환을 수행**\n",
    "---\n",
    "\n",
    "## 쪼개진 데이터를 merge\n",
    "### 아래 코드 참조."
   ]
  },
  {
   "cell_type": "code",
   "execution_count": 2,
   "metadata": {},
   "outputs": [],
   "source": [
    "import pandas as pd\n",
    "checking = pd.read_csv('./202201/2/2.csv', index_col=0)"
   ]
  },
  {
   "cell_type": "code",
   "execution_count": 4,
   "metadata": {},
   "outputs": [
    {
     "data": {
      "text/plain": [
       "연번\n",
       "99646982    부산광역시 남구 수영로325번길 159-30\n",
       "99646985     부산광역시 남구 황령대로319번가길 142\n",
       "99646988           부산광역시 남구 장고개로 108\n",
       "99646991        부산광역시 남구 전포대로20번길 15\n",
       "99646994            부산광역시 남구 수영로 261\n",
       "                      ...           \n",
       "99581402        부산광역시 수영구 감포로48번길 10\n",
       "99428552         부산광역시 강서구 생곡산단1로 28\n",
       "99406127     부산광역시 동래구 중앙대로1473번길 13\n",
       "99327887           부산광역시 수영구 수영로 641\n",
       "99256208         부산광역시 금정구 신천로 53-15\n",
       "Name: n_addr, Length: 67, dtype: object"
      ]
     },
     "execution_count": 4,
     "metadata": {},
     "output_type": "execute_result"
    }
   ],
   "source": [
    "checking['n_addr']"
   ]
  },
  {
   "cell_type": "markdown",
   "metadata": {},
   "source": [
    "### 원본 데이터프레임과 주소변환이 완료된 데이터프레임을 concat 시켜서 변환된 데이터프레임이 비동기 처리로 인해서 인덱스의 순서가 뒤죽박죽이지는 않은지 확인해보기"
   ]
  },
  {
   "cell_type": "code",
   "execution_count": 11,
   "metadata": {},
   "outputs": [],
   "source": [
    "import pandas as pd\n",
    "df1 = pd.read_csv('./202201/1/1.csv')\n",
    "df2 = pd.read_csv('./202201/1/final_address_1.csv')"
   ]
  },
  {
   "cell_type": "code",
   "execution_count": 1,
   "metadata": {},
   "outputs": [],
   "source": [
    "# df1.head()"
   ]
  },
  {
   "cell_type": "code",
   "execution_count": 14,
   "metadata": {},
   "outputs": [
    {
     "data": {
      "text/html": [
       "<div>\n",
       "<style scoped>\n",
       "    .dataframe tbody tr th:only-of-type {\n",
       "        vertical-align: middle;\n",
       "    }\n",
       "\n",
       "    .dataframe tbody tr th {\n",
       "        vertical-align: top;\n",
       "    }\n",
       "\n",
       "    .dataframe thead th {\n",
       "        text-align: right;\n",
       "    }\n",
       "</style>\n",
       "<table border=\"1\" class=\"dataframe\">\n",
       "  <thead>\n",
       "    <tr style=\"text-align: right;\">\n",
       "      <th></th>\n",
       "      <th>n_addr</th>\n",
       "      <th>시/도</th>\n",
       "      <th>시/군/구</th>\n",
       "      <th>읍/면/동</th>\n",
       "    </tr>\n",
       "  </thead>\n",
       "  <tbody>\n",
       "    <tr>\n",
       "      <th>0</th>\n",
       "      <td>부산광역시 서구 대영로105번길 20</td>\n",
       "      <td>부산광역시</td>\n",
       "      <td>남구</td>\n",
       "      <td>대연동</td>\n",
       "    </tr>\n",
       "    <tr>\n",
       "      <th>1</th>\n",
       "      <td>부산광역시 서구 대영로 92-10</td>\n",
       "      <td>부산광역시</td>\n",
       "      <td>해운대구</td>\n",
       "      <td>반여동</td>\n",
       "    </tr>\n",
       "    <tr>\n",
       "      <th>2</th>\n",
       "      <td>부산광역시 서구 천마로186번길 25</td>\n",
       "      <td>부산광역시</td>\n",
       "      <td>부산진구</td>\n",
       "      <td>부전동</td>\n",
       "    </tr>\n",
       "    <tr>\n",
       "      <th>3</th>\n",
       "      <td>부산광역시 서구 충무대로177번길 13</td>\n",
       "      <td>부산광역시</td>\n",
       "      <td>부산진구</td>\n",
       "      <td>범천동</td>\n",
       "    </tr>\n",
       "    <tr>\n",
       "      <th>4</th>\n",
       "      <td>부산광역시 서구 충무대로 64</td>\n",
       "      <td>부산광역시</td>\n",
       "      <td>연제구</td>\n",
       "      <td>거제동</td>\n",
       "    </tr>\n",
       "    <tr>\n",
       "      <th>...</th>\n",
       "      <td>...</td>\n",
       "      <td>...</td>\n",
       "      <td>...</td>\n",
       "      <td>...</td>\n",
       "    </tr>\n",
       "    <tr>\n",
       "      <th>4995</th>\n",
       "      <td>부산광역시 북구 금곡대로 166</td>\n",
       "      <td>NaN</td>\n",
       "      <td>NaN</td>\n",
       "      <td>NaN</td>\n",
       "    </tr>\n",
       "    <tr>\n",
       "      <th>4996</th>\n",
       "      <td>부산광역시 해운대구 달맞이길 30</td>\n",
       "      <td>NaN</td>\n",
       "      <td>NaN</td>\n",
       "      <td>NaN</td>\n",
       "    </tr>\n",
       "    <tr>\n",
       "      <th>4997</th>\n",
       "      <td>부산광역시 해운대구 달맞이길 23</td>\n",
       "      <td>NaN</td>\n",
       "      <td>NaN</td>\n",
       "      <td>NaN</td>\n",
       "    </tr>\n",
       "    <tr>\n",
       "      <th>4998</th>\n",
       "      <td>부산광역시 해운대구 송정중앙로15번길 41</td>\n",
       "      <td>NaN</td>\n",
       "      <td>NaN</td>\n",
       "      <td>NaN</td>\n",
       "    </tr>\n",
       "    <tr>\n",
       "      <th>4999</th>\n",
       "      <td>부산광역시 북구 화명신도시로 70</td>\n",
       "      <td>NaN</td>\n",
       "      <td>NaN</td>\n",
       "      <td>NaN</td>\n",
       "    </tr>\n",
       "  </tbody>\n",
       "</table>\n",
       "<p>5000 rows × 4 columns</p>\n",
       "</div>"
      ],
      "text/plain": [
       "                       n_addr    시/도 시/군/구 읍/면/동\n",
       "0        부산광역시 서구 대영로105번길 20  부산광역시    남구   대연동\n",
       "1          부산광역시 서구 대영로 92-10  부산광역시  해운대구   반여동\n",
       "2        부산광역시 서구 천마로186번길 25  부산광역시  부산진구   부전동\n",
       "3       부산광역시 서구 충무대로177번길 13  부산광역시  부산진구   범천동\n",
       "4            부산광역시 서구 충무대로 64  부산광역시   연제구   거제동\n",
       "...                       ...    ...   ...   ...\n",
       "4995        부산광역시 북구 금곡대로 166    NaN   NaN   NaN\n",
       "4996       부산광역시 해운대구 달맞이길 30    NaN   NaN   NaN\n",
       "4997       부산광역시 해운대구 달맞이길 23    NaN   NaN   NaN\n",
       "4998  부산광역시 해운대구 송정중앙로15번길 41    NaN   NaN   NaN\n",
       "4999       부산광역시 북구 화명신도시로 70    NaN   NaN   NaN\n",
       "\n",
       "[5000 rows x 4 columns]"
      ]
     },
     "execution_count": 14,
     "metadata": {},
     "output_type": "execute_result"
    }
   ],
   "source": [
    "df_sim = pd.concat([df1.loc[:,'n_addr'], df2], axis=1)\n",
    "df_sim"
   ]
  }
 ],
 "metadata": {
  "kernelspec": {
   "display_name": "address_env",
   "language": "python",
   "name": "python3"
  },
  "language_info": {
   "codemirror_mode": {
    "name": "ipython",
    "version": 3
   },
   "file_extension": ".py",
   "mimetype": "text/x-python",
   "name": "python",
   "nbconvert_exporter": "python",
   "pygments_lexer": "ipython3",
   "version": "3.11.9"
  }
 },
 "nbformat": 4,
 "nbformat_minor": 2
}
